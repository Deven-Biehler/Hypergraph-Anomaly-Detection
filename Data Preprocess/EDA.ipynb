{
 "cells": [
  {
   "cell_type": "code",
   "execution_count": 60,
   "metadata": {},
   "outputs": [],
   "source": [
    "import json\n",
    "import networkx as nx\n",
    "import time\n",
    "\n",
    "def write_edge_list():\n",
    "    timer = time.perf_counter()\n",
    "    write_file = open(\"edge_list\", \"w\")\n",
    "    sucessful_entries = 0\n",
    "\n",
    "    with open(\"RC_2015-01\\RC_2015-01\", \"r\") as file:\n",
    "        line = file.readline()\n",
    "        while line:\n",
    "            line_dict = json.loads(line)\n",
    "            if line_dict[\"author\"] == \"[deleted]\":\n",
    "                continue\n",
    "            write_file.write(line_dict[\"author\"] + \" \" + line_dict[\"subreddit\"] + \"\\n\")\n",
    "            sucessful_entries += 1\n",
    "            if time.perf_counter() - timer > 3600:\n",
    "                print(\"Entries processed: \" + str(sucessful_entries))\n",
    "                break\n",
    "\n",
    "    write_file.close()\n"
   ]
  },
  {
   "cell_type": "code",
   "execution_count": 61,
   "metadata": {},
   "outputs": [
    {
     "name": "stdout",
     "output_type": "stream",
     "text": [
      "Entries processed: 749468867\n"
     ]
    }
   ],
   "source": [
    "write_edge_list()"
   ]
  },
  {
   "cell_type": "code",
   "execution_count": 50,
   "metadata": {},
   "outputs": [],
   "source": [
    "# Read the edge list file and generates a GML file\n",
    "def generate_gml(input_file, output_gml_file, subsample_size):\n",
    "    \n",
    "    G = nx.bipartite.read_edgelist(input_file, create_using=nx.DiGraph)\n",
    "    nx.write_gml(G, output_gml_file)"
   ]
  },
  {
   "cell_type": "code",
   "execution_count": 51,
   "metadata": {},
   "outputs": [],
   "source": [
    "generate_gml(\"edge_list\", \"graph_3.gml\", 1000)\n",
    "generate_gml(\"edge_list\", \"graph_4.gml\", 10000)\n",
    "generate_gml(\"edge_list\", \"graph_5.gml\", 100000)\n",
    "generate_gml(\"edge_list\", \"graph_6.gml\", 1000000)\n",
    "generate_gml(\"edge_list\", \"graph_7.gml\", 10000000)\n"
   ]
  }
 ],
 "metadata": {
  "kernelspec": {
   "display_name": "Python 3",
   "language": "python",
   "name": "python3"
  },
  "language_info": {
   "codemirror_mode": {
    "name": "ipython",
    "version": 3
   },
   "file_extension": ".py",
   "mimetype": "text/x-python",
   "name": "python",
   "nbconvert_exporter": "python",
   "pygments_lexer": "ipython3",
   "version": "3.10.4"
  }
 },
 "nbformat": 4,
 "nbformat_minor": 2
}
